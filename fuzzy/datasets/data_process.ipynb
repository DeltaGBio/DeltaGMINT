{
 "cells": [
  {
   "cell_type": "code",
   "execution_count": 1,
   "metadata": {},
   "outputs": [],
   "source": [
    "import pandas as pd\n",
    "import numpy as np\n",
    "#import train test split\n",
    "from sklearn.model_selection import train_test_split\n",
    "\n"
   ]
  },
  {
   "cell_type": "code",
   "execution_count": 2,
   "metadata": {},
   "outputs": [
    {
     "name": "stderr",
     "output_type": "stream",
     "text": [
      "/local/scratch/tmp/ipykernel_3928768/3219786577.py:1: DtypeWarning: Columns (5) have mixed types. Specify dtype option on import or set low_memory=False.\n",
      "  file = pd.read_csv(\"criptc_norm_for_mochi.tsv\", sep=\"\\t\")\n"
     ]
    },
    {
     "name": "stdout",
     "output_type": "stream",
     "text": [
      "before remove duplicate file.shape: (101553, 2)\n",
      "after remove duplicate file.shape: (101553, 2)\n"
     ]
    }
   ],
   "source": [
    "file = pd.read_csv(\"criptc_norm_for_mochi.tsv\", sep=\"\\t\")\n",
    "PDZ_seq = \"GEEDIPREPRRIVIHRGSTGLGFNIVGGEDGEGIFISFILAGGPADLSGELRKGDQILSVNGVDLRNASHEQAAIALKNAGQTVTIIAQYKPEEYSRFEA\"\n",
    "#drop STOP=TRUE\n",
    "file = file[file[\"STOP\"] == False]\n",
    "#get only two columns, seq and fitness\n",
    "file = file[[\"aa_seq\", \"fitness\"]]\n",
    "#rename aa_seq to sequence\n",
    "file.rename(columns={\"aa_seq\": \"PBM\"}, inplace=True)\n",
    "print(f\"before remove duplicate file.shape: {file.shape}\")\n",
    "#remove duplicate\n",
    "file = file.drop_duplicates(subset=[\"PBM\"])\n",
    "print(f\"after remove duplicate file.shape: {file.shape}\")\n",
    "#add another column PDZ \n",
    "file[\"PDZ\"] = PDZ_seq\n",
    "#save to csv\n",
    "file.to_csv(\"criptc_norm_for_mochi_processed.csv\", index=False)\n",
    "\n"
   ]
  },
  {
   "cell_type": "code",
   "execution_count": 4,
   "metadata": {},
   "outputs": [
    {
     "name": "stderr",
     "output_type": "stream",
     "text": [
      "/local/scratch/tmp/ipykernel_4092854/2557787019.py:2: DtypeWarning: Columns (5) have mixed types. Specify dtype option on import or set low_memory=False.\n",
      "  file = pd.read_csv(\"criptc_norm_for_mochi.tsv\", sep=\"\\t\")\n"
     ]
    }
   ],
   "source": [
    "#prepare data for MINT embeddings, column should be following: ,seq1,seq2,seq1_mut,seq2_mut,target\n",
    "file = pd.read_csv(\"criptc_norm_for_mochi.tsv\", sep=\"\\t\")\n",
    "PDZ_seq = \"GEEDIPREPRRIVIHRGSTGLGFNIVGGEDGEGIFISFILAGGPADLSGELRKGDQILSVNGVDLRNASHEQAAIALKNAGQTVTIIAQYKPEEYSRFEA\"\n",
    "PBM_WT = \"KNYKQTSV\"\n",
    "#drop STOP=TRUE\n",
    "file = file[file[\"STOP\"] == False]\n",
    "#get only two columns, seq and fitness\n",
    "file = file[[\"aa_seq\", \"fitness\"]]\n",
    "\n",
    "#add another column PDZ \n",
    "#new dataframe\n",
    "df = pd.DataFrame()\n",
    "df[\"seq1_mut\"] = file[\"aa_seq\"]\n",
    "df[\"seq1\"] = PBM_WT\n",
    "df[\"seq2\"] = PDZ_seq\n",
    "df[\"seq2_mut\"] = PDZ_seq\n",
    "df[\"target\"] = file[\"fitness\"]\n",
    "#save to csv\n",
    "df.to_csv(\"criptc_norm_for_mochi_processed_MINT.csv\", index=False)\n",
    "#split train val test with 80% 10% 10%\n",
    "train_df, test_df= train_test_split(df, test_size=0.1, random_state=42)\n",
    "#save to csv\n",
    "train_df.to_csv(\"criptc_norm_for_mochi_processed_MINT_train.csv\", index=False)\n",
    "test_df.to_csv(\"criptc_norm_for_mochi_processed_MINT_test.csv\", index=False)\n"
   ]
  },
  {
   "cell_type": "code",
   "execution_count": 5,
   "metadata": {},
   "outputs": [],
   "source": [
    "file = pd.read_csv(\"criptc_norm_for_mochi_balanced_exp10.tsv\", sep=\"\\t\")\n",
    "\n",
    "#drop STOP=TRUE\n",
    "file = file[file[\"STOP\"] == False]\n",
    "#get only two columns, seq and fitness\n",
    "file = file[[\"aa_seq\", \"fitness\"]]\n",
    "#rename aa_seq to sequence\n",
    "file.rename(columns={\"aa_seq\": \"PBM\"}, inplace=True)\n",
    "file[\"PDZ\"] = PDZ_seq\n",
    "#save to csv\n",
    "file.to_csv(\"criptc_norm_for_mochi_balanced_exp10_processed.csv\", index=False)\n",
    "\n"
   ]
  },
  {
   "cell_type": "code",
   "execution_count": 5,
   "metadata": {},
   "outputs": [],
   "source": [
    "#prepare data for MINT embeddings, column should be following: ,seq1,seq2,seq1_mut,seq2_mut,target\n",
    "file = pd.read_csv(\"criptc_norm_for_mochi_balanced_exp10.tsv\", sep=\"\\t\")\n",
    "PDZ_seq = \"GEEDIPREPRRIVIHRGSTGLGFNIVGGEDGEGIFISFILAGGPADLSGELRKGDQILSVNGVDLRNASHEQAAIALKNAGQTVTIIAQYKPEEYSRFEA\"\n",
    "PBM_WT = \"KNYKQTSV\"\n",
    "#drop STOP=TRUE\n",
    "file = file[file[\"STOP\"] == False]\n",
    "#get only two columns, seq and fitness\n",
    "file = file[[\"aa_seq\", \"fitness\"]]\n",
    "\n",
    "#add another column PDZ \n",
    "#new dataframe\n",
    "df = pd.DataFrame()\n",
    "df[\"seq1_mut\"] = file[\"aa_seq\"]\n",
    "df[\"seq1\"] = PBM_WT\n",
    "df[\"seq2\"] = PDZ_seq\n",
    "df[\"seq2_mut\"] = PDZ_seq\n",
    "df[\"target\"] = file[\"fitness\"]\n",
    "#save to csv\n",
    "df.to_csv(\"criptc_norm_for_mochi_balanced_exp10_processed_MINT.csv\", index=False)\n",
    "\n",
    "train_df, test_df= train_test_split(df, test_size=0.1, random_state=42)\n",
    "#save to csv\n",
    "train_df.to_csv(\"criptc_norm_for_mochi_balanced_exp10_processed_MINT_train.csv\", index=False)\n",
    "test_df.to_csv(\"criptc_norm_for_mochi_balanced_exp10_processed_MINT_test.csv\", index=False)\n",
    "\n",
    "\n",
    "\n",
    "\n",
    "\n"
   ]
  },
  {
   "cell_type": "code",
   "execution_count": null,
   "metadata": {},
   "outputs": [],
   "source": []
  }
 ],
 "metadata": {
  "kernelspec": {
   "display_name": ".venv",
   "language": "python",
   "name": "python3"
  },
  "language_info": {
   "codemirror_mode": {
    "name": "ipython",
    "version": 3
   },
   "file_extension": ".py",
   "mimetype": "text/x-python",
   "name": "python",
   "nbconvert_exporter": "python",
   "pygments_lexer": "ipython3",
   "version": "3.10.7"
  }
 },
 "nbformat": 4,
 "nbformat_minor": 2
}
