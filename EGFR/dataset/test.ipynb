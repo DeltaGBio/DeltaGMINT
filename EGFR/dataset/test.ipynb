{
 "cells": [
  {
   "cell_type": "code",
   "execution_count": 6,
   "metadata": {},
   "outputs": [
    {
     "data": {
      "text/html": [
       "<div>\n",
       "<style scoped>\n",
       "    .dataframe tbody tr th:only-of-type {\n",
       "        vertical-align: middle;\n",
       "    }\n",
       "\n",
       "    .dataframe tbody tr th {\n",
       "        vertical-align: top;\n",
       "    }\n",
       "\n",
       "    .dataframe thead th {\n",
       "        text-align: right;\n",
       "    }\n",
       "</style>\n",
       "<table border=\"1\" class=\"dataframe\">\n",
       "  <thead>\n",
       "    <tr style=\"text-align: right;\">\n",
       "      <th></th>\n",
       "      <th>Amino Acid</th>\n",
       "      <th>EGFR Position</th>\n",
       "      <th>Z-score</th>\n",
       "      <th>Intracellular_Extracellular</th>\n",
       "      <th>Domain</th>\n",
       "      <th>p-value</th>\n",
       "    </tr>\n",
       "  </thead>\n",
       "  <tbody>\n",
       "    <tr>\n",
       "      <th>0</th>\n",
       "      <td>I643C</td>\n",
       "      <td>643</td>\n",
       "      <td>6.600609</td>\n",
       "      <td>Extracellular</td>\n",
       "      <td>domain IV</td>\n",
       "      <td>0.194558</td>\n",
       "    </tr>\n",
       "    <tr>\n",
       "      <th>1</th>\n",
       "      <td>K642C</td>\n",
       "      <td>642</td>\n",
       "      <td>6.541242</td>\n",
       "      <td>Extracellular</td>\n",
       "      <td>domain IV</td>\n",
       "      <td>0.140137</td>\n",
       "    </tr>\n",
       "    <tr>\n",
       "      <th>2</th>\n",
       "      <td>Q218C</td>\n",
       "      <td>218</td>\n",
       "      <td>6.473430</td>\n",
       "      <td>Extracellular</td>\n",
       "      <td>domain II</td>\n",
       "      <td>0.154892</td>\n",
       "    </tr>\n",
       "    <tr>\n",
       "      <th>3</th>\n",
       "      <td>E709W</td>\n",
       "      <td>709</td>\n",
       "      <td>6.271532</td>\n",
       "      <td>Intracellular</td>\n",
       "      <td>kinase</td>\n",
       "      <td>0.165503</td>\n",
       "    </tr>\n",
       "    <tr>\n",
       "      <th>4</th>\n",
       "      <td>S229C</td>\n",
       "      <td>229</td>\n",
       "      <td>6.162138</td>\n",
       "      <td>Extracellular</td>\n",
       "      <td>domain II</td>\n",
       "      <td>0.063936</td>\n",
       "    </tr>\n",
       "  </tbody>\n",
       "</table>\n",
       "</div>"
      ],
      "text/plain": [
       "  Amino Acid  EGFR Position   Z-score Intracellular_Extracellular     Domain  \\\n",
       "0      I643C            643  6.600609               Extracellular  domain IV   \n",
       "1      K642C            642  6.541242               Extracellular  domain IV   \n",
       "2      Q218C            218  6.473430               Extracellular  domain II   \n",
       "3      E709W            709  6.271532               Intracellular     kinase   \n",
       "4      S229C            229  6.162138               Extracellular  domain II   \n",
       "\n",
       "    p-value  \n",
       "0  0.194558  \n",
       "1  0.140137  \n",
       "2  0.154892  \n",
       "3  0.165503  \n",
       "4  0.063936  "
      ]
     },
     "execution_count": 6,
     "metadata": {},
     "output_type": "execute_result"
    }
   ],
   "source": [
    "import pandas as pd\n",
    "\n",
    "df = pd.read_excel(\"41467_2024_45594_MOESM4_ESM.xlsx\")\n",
    "df.head()"
   ]
  },
  {
   "cell_type": "code",
   "execution_count": 4,
   "metadata": {},
   "outputs": [],
   "source": [
    "wt_seq = \"MRPSGTAGAALLALLAALCPASRALEEKKVCQGTSNKLTQLGTFEDHFLSLQRMFNNCEVVLGNLEITYVQRNYDLSFLKTIQEVAGYVLIALNTVERIPLENLQIIRGNMYYENSYALAVLSNYDANKTGLKELPMRNLQEILHGAVRFSNNPALCNVESIQWRDIVSSDFLSNMSMDFQNHLGSCQKCDPSCPNGSCWGAGEENCQKLTKIICAQQCSGRCRGKSPSDCCHNQCAAGCTGPRESDCLVCRKFRDEATCKDTCPPLMLYNPTTYQMDVNPEGKYSFGATCVKKCPRNYVVTDHGSCVRACGADSYEMEEDGVRKCKKCEGPCRKVCNGIGIGEFKDSLSINATNIKHFKNCTSISGDLHILPVAFRGDSFTHTPPLDPQELDILKTVKEITGFLLIQAWPENRTDLHAFENLEIIRGRTKQHGQFSLAVVSLNITSLGLRSLKEISDGDVIISGNKNLCYANTINWKKLFGTSGQKTKIISNRGENSCKATGQVCHALCSPEGCWGPEPRDCVSCRNVSRGRECVDKCNLLEGEPREFVENSECIQCHPECLPQAMNITCTGRGPDNCIQCAHYIDGPHCVKTCPAGVMGENNTLVWKYADAGHVCHLCHPNCTYGCTGPGLEGCPTNGPKIPSIATGMVGALLLLLVVALGIGLFMRRRHIVRKRTLRRLLQERELVEPLTPSGEAPNQALLRILKETEFKKIKVLGSGAFGTVYKGLWIPEGEKVKIPVAIKELREATSPKANKEILDEAYVMASVDNPHVCRLLGICLTSTVQLITQLMPFGCLLDYVREHKDNIGSQYLLNWCVQIAKGMNYLEDRRLVHRDLAARNVLVKTPQHVKITDFGLAKLLGAEEKEYHAEGGKVPIKWMALESILHRIYTHQSDVWSYGVTVWELMTFGSKPYDGIPASEISSILEKGERLPQPPICTIDVYMIMVKCWMIDADSRPKFRELIIEFSKMARDPQRYLVIQGDERMHLPSPTDSNFYRALMDEEDMDDVVDADEYLIPQQGFFSSPSTSRTPLLSSLSATSNNSTVACIDRNGLQSCPIKEDSFLQRYSSDPTGALTEDSIDDTFLPVPEYINQSVPKRPAGSVQNPVYHNQPLNPAPSRDPHYQDPHSTAVGNPEYLNTVQPTCVNSTFDSPAHWAQKGSHQISLDNPDYQQDFFPKEAKPNGIFKGSTAENAEYLRVAPQSSEFIGA\""
   ]
  },
  {
   "cell_type": "code",
   "execution_count": 10,
   "metadata": {},
   "outputs": [],
   "source": [
    "df[\"wt_seq\"] = wt_seq"
   ]
  },
  {
   "cell_type": "code",
   "execution_count": 11,
   "metadata": {},
   "outputs": [],
   "source": [
    "def mutate_seq(mutation, wt_seq):\n",
    "    \"\"\"\n",
    "    mutation is I643C, which first letter is aminno acid of WT, 643 is aacid poisiont C is the new mutated seuqence\n",
    "\n",
    "    return the mutated_seq \n",
    "\n",
    "    \"\"\"\n",
    "    # Parse mutation string\n",
    "    wt_aa = mutation[0]  # Wild-type amino acid\n",
    "    mut_aa = mutation[-1]  # Mutated amino acid\n",
    "    position = int(mutation[1:-1])  # Position (1-indexed)\n",
    "    \n",
    "    # Verify wild-type amino acid matches the sequence\n",
    "    if wt_seq[position-1] != wt_aa:\n",
    "        raise ValueError(f\"Wild-type amino acid at position {position} is {wt_seq[position-1]}, not {wt_aa}\")\n",
    "    \n",
    "    # Make the mutation\n",
    "    mutated_seq = wt_seq[:position-1] + mut_aa + wt_seq[position:]\n",
    "    \n",
    "    return mutated_seq"
   ]
  },
  {
   "cell_type": "code",
   "execution_count": 17,
   "metadata": {},
   "outputs": [],
   "source": [
    "# Create a new column 'mutated_seq' by applying mutate_seq to each row\n",
    "df[\"mut_seq\"] = df.apply(\n",
    "    lambda row: mutate_seq(row[\"Amino Acid\"], row[\"wt_seq\"]) \n",
    "                if pd.notna(row[\"Amino Acid\"]) and isinstance(row[\"Amino Acid\"], str) \n",
    "                else None, \n",
    "    axis=1\n",
    ")"
   ]
  },
  {
   "cell_type": "code",
   "execution_count": 26,
   "metadata": {},
   "outputs": [],
   "source": [
    "df.head()\n",
    "dataset = df[[\"wt_seq\",\"mut_seq\",\"Z-score\"]]\n",
    "# Drop any row containing NA or empty string in any column for data integrity\n",
    "dataset = dataset.dropna()\n",
    "dataset = dataset[~dataset.isin(['']).any(axis=1)]"
   ]
  },
  {
   "cell_type": "code",
   "execution_count": 27,
   "metadata": {},
   "outputs": [],
   "source": [
    "from sklearn.model_selection import train_test_split\n",
    "\n",
    "train, test = train_test_split(dataset, test_size=0.1)"
   ]
  },
  {
   "cell_type": "code",
   "execution_count": 28,
   "metadata": {},
   "outputs": [],
   "source": [
    "train.to_csv(\"EGFR_train.csv\", index=False)\n",
    "test.to_csv(\"EGFR_test.csv\", index=False)"
   ]
  }
 ],
 "metadata": {
  "kernelspec": {
   "display_name": ".venv",
   "language": "python",
   "name": "python3"
  },
  "language_info": {
   "codemirror_mode": {
    "name": "ipython",
    "version": 3
   },
   "file_extension": ".py",
   "mimetype": "text/x-python",
   "name": "python",
   "nbconvert_exporter": "python",
   "pygments_lexer": "ipython3",
   "version": "3.10.7"
  }
 },
 "nbformat": 4,
 "nbformat_minor": 2
}
