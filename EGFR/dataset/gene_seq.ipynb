{
 "cells": [
  {
   "cell_type": "code",
   "execution_count": 2,
   "metadata": {},
   "outputs": [],
   "source": []
  },
  {
   "cell_type": "code",
   "execution_count": 14,
   "metadata": {},
   "outputs": [
    {
     "name": "stdout",
     "output_type": "stream",
     "text": [
      "Mutated:    GQSFTHPP\n"
     ]
    }
   ],
   "source": [
    "import random\n",
    "\n",
    "def mutate(seq, mutation_rate=0.1):\n",
    "    \"\"\"\n",
    "    Mutates a wild-type amino acid sequence by randomly substituting residues.\n",
    "    \n",
    "    Args:\n",
    "        seq (str): The wild-type amino acid sequence.\n",
    "        mutation_rate (float): Probability of mutating each residue (default 0.1).\n",
    "    \n",
    "    Returns:\n",
    "        str: The mutated amino acid sequence.\n",
    "    \"\"\"\n",
    "    # Define the set of valid amino acids\n",
    "    amino_acids = 'ACDEFGHIKLMNPQRSTVWY'\n",
    "    mutated_seq = []\n",
    "    \n",
    "    for aa in seq:\n",
    "        # With probability equal to mutation_rate, substitute the amino acid\n",
    "        if random.random() < mutation_rate:\n",
    "            # Choose an alternative amino acid (different from the current one)\n",
    "            alternatives = [a for a in amino_acids if a != aa]\n",
    "            mutated_seq.append(random.choice(alternatives))\n",
    "        else:\n",
    "            mutated_seq.append(aa)\n",
    "    return ''.join(mutated_seq)\n",
    "\n",
    "# Example usage:\n",
    "\n",
    "print(\"Mutated:   \", mutated)"
   ]
  },
  {
   "cell_type": "code",
   "execution_count": 15,
   "metadata": {},
   "outputs": [],
   "source": [
    "num_seq = 200\n",
    "mutated_seqs = []\n",
    "wt_seq = \"GDSFTHP\"\n",
    "for i in range(num_seq):\n",
    "    mutated_seqs.append(mutate(wt_seq, mutation_rate=0.1))\n",
    "\n"
   ]
  },
  {
   "cell_type": "code",
   "execution_count": 16,
   "metadata": {},
   "outputs": [],
   "source": [
    "import pandas as pd\n",
    "\n",
    "# Create DataFrame with mutated sequences and corresponding wild-type sequence\n",
    "data = pd.DataFrame({\"mutated_seq\": mutated_seqs, \"wt_seq\": [wt_seq]*len(mutated_seqs)})"
   ]
  },
  {
   "cell_type": "code",
   "execution_count": 17,
   "metadata": {},
   "outputs": [],
   "source": [
    "data.to_csv(\"EGFR_antigen_loop\")"
   ]
  }
 ],
 "metadata": {
  "kernelspec": {
   "display_name": ".venv",
   "language": "python",
   "name": "python3"
  },
  "language_info": {
   "codemirror_mode": {
    "name": "ipython",
    "version": 3
   },
   "file_extension": ".py",
   "mimetype": "text/x-python",
   "name": "python",
   "nbconvert_exporter": "python",
   "pygments_lexer": "ipython3",
   "version": "3.10.7"
  }
 },
 "nbformat": 4,
 "nbformat_minor": 2
}
